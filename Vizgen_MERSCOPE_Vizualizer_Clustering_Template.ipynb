{
  "cells": [
    {
      "cell_type": "markdown",
      "metadata": {
        "id": "8nnoA95Ody8Q"
      },
      "source": [
        "# Vizgen MERSCOPE Vizualizer Cell Clustering\n",
        "\n",
        "This notebook demonstrates how to use Scanpy to perform data pre-processing, dimensionality reduction, and single-cell Leiden clustering.\n",
        "\n",
        "This notebook is designed to take the Anndata output from the MERSCOPE Vizualizer and return a new Anndata object with UMAP dimensionality reduction and Leiden clustering cell metadata.\n",
        "\n",
        "Before running this notebook upload your data (using the Files tab on the left and upload button) to this Colab notebook (a specific filename is not required, but the file must end with `.hdf5`).\n",
        "\n"
      ]
    },
    {
      "cell_type": "code",
      "execution_count": 2,
      "metadata": {
        "id": "-zS0kMqjdkO7"
      },
      "outputs": [],
      "source": [
        "# %%capture\n",
        "# !pip install -q numpy==1.26\n",
        "# !pip install -q fsspec==2022.1.0\n",
        "# !pip install -q gcsfs==2022.1.0\n",
        "# !pip install -q scanpy==1.9.3\n",
        "# !pip install -q anndata==0.7.8\n",
        "# !pip install -q leidenalg==0.9.0\n",
        "# !pip install -q observable-jupyter==0.1.12\n",
        "# !pip install -q clustergrammer2==0.18.0\n",
        "# !pip install -q loompy==3.0.6"
      ]
    },
    {
      "cell_type": "code",
      "execution_count": 1,
      "metadata": {
        "id": "eiwwP_xCoHQR"
      },
      "outputs": [],
      "source": [
        "import os\n",
        "# os.kill(os.getpid(), 9)"
      ]
    },
    {
      "cell_type": "code",
      "execution_count": null,
      "metadata": {
        "id": "Bf7W3wFsbdX1"
      },
      "outputs": [],
      "source": [
        "import numpy as np\n",
        "import pandas as pd\n",
        "import scanpy as sc\n",
        "from matplotlib import pyplot as plt\n",
        "from observable_jupyter import embed\n",
        "from clustergrammer2 import net, Network, CGM2\n",
        "from scipy.stats.stats import pearsonr\n",
        "from copy import deepcopy\n",
        "from glob import glob\n",
        "\n",
        "# code for compressing data for visuals\n",
        "import zlib, json, base64\n",
        "def json_zip(j):\n",
        "    zip_json_string = base64.b64encode(\n",
        "        zlib.compress(\n",
        "            json.dumps(j).encode('utf-8')\n",
        "        )\n",
        "    ).decode('ascii')\n",
        "    return zip_json_string\n",
        "\n",
        "# Avoids scroll-in-the-scroll in the entire Notebook\n",
        "# from IPython.display import Javascript\n",
        "# def resize_colab_cell():\n",
        "#   display(Javascript('google.colab.output.setIframeHeight(0, true, {maxHeight: 5000})'))\n",
        "# get_ipython().events.register('pre_run_cell', resize_colab_cell)"
      ]
    },
    {
      "cell_type": "markdown",
      "metadata": {
        "id": "pNj4ev4-1g2O"
      },
      "source": [
        "# Load Anndata"
      ]
    },
    {
      "cell_type": "code",
      "execution_count": null,
      "metadata": {},
      "outputs": [],
      "source": [
        "# Define file paths\n",
        "base_path = 'region_R1/' # Ensure this path is correct relative to the notebook location\n",
        "h5ad_file = os.path.join(base_path, '202503071102_SESSA-p30-E165_VMSC10702_region_R1.h5ad')\n",
        "print(h5ad_file)\n",
        "\n",
        "ad_viz = sc.read_h5ad(h5ad_file)"
      ]
    },
    {
      "cell_type": "code",
      "execution_count": null,
      "metadata": {
        "id": "29BTHhtqfdlq"
      },
      "outputs": [],
      "source": [
        "\n",
        "\n",
        "# filter out blanks before clusering\n",
        "keep_genes = [x for x in ad_viz.var.index.tolist() if 'Blank' not in x]\n",
        "ad_viz = ad_viz[:, keep_genes]\n",
        "\n",
        "# copy to cell_by_gene_matrix\n",
        "cell_by_gene = deepcopy(ad_viz.to_df())\n",
        "\n",
        "ad_viz"
      ]
    },
    {
      "cell_type": "code",
      "execution_count": null,
      "metadata": {
        "id": "ZkiuyUrAvov8"
      },
      "outputs": [],
      "source": [
        "sc.read_h5ad(anndata_filename)"
      ]
    },
    {
      "cell_type": "code",
      "execution_count": null,
      "metadata": {
        "id": "gh16-llVq6DV"
      },
      "outputs": [],
      "source": [
        "# ad_viz.__dict__['_raw'].__dict__['_var'] = ad_viz.__dict__['_raw'].__dict__['_var'].rename(columns={'_index': 'features'})"
      ]
    },
    {
      "cell_type": "markdown",
      "metadata": {
        "id": "D2b9cY1qhWJn"
      },
      "source": [
        "### Filter Cells Based on Minimum Gene Expression Counts"
      ]
    },
    {
      "cell_type": "code",
      "execution_count": null,
      "metadata": {
        "id": "-IcBevrXgweH"
      },
      "outputs": [],
      "source": [
        "# before filtering\n",
        "ser_exp = ad_viz.to_df().sum(axis=1)\n",
        "ser_exp.hist(bins=100)"
      ]
    },
    {
      "cell_type": "code",
      "execution_count": null,
      "metadata": {
        "id": "PmyBmwOHhRMk"
      },
      "outputs": [],
      "source": [
        "min_expression = 25\n",
        "keep_cells = ser_exp[ser_exp > min_expression].index.tolist()\n",
        "ad_viz = ad_viz[keep_cells]\n",
        "ad_viz"
      ]
    },
    {
      "cell_type": "code",
      "execution_count": null,
      "metadata": {
        "id": "nSj6ZjILhSyC"
      },
      "outputs": [],
      "source": [
        "ser_exp = ad_viz.to_df().sum(axis=1)\n",
        "ser_exp.hist(bins=100)"
      ]
    },
    {
      "cell_type": "markdown",
      "metadata": {
        "id": "cGQRy8kzhuNT"
      },
      "source": [
        "### Filter Cells Based on Volume"
      ]
    },
    {
      "cell_type": "code",
      "execution_count": null,
      "metadata": {
        "id": "C5RqmBIggXQZ"
      },
      "outputs": [],
      "source": [
        "# ser_volume = ad_viz.obs['volume']\n",
        "# ser_volume.hist(bins=100)"
      ]
    },
    {
      "cell_type": "code",
      "execution_count": null,
      "metadata": {
        "id": "j1OVAyfih58u"
      },
      "outputs": [],
      "source": [
        "# # filter cells based on volume\n",
        "# min_volume = 50\n",
        "# keep_cells = ser_volume[ser_volume > min_volume].index.tolist()\n",
        "# ad_viz = ad_viz[keep_cells]\n",
        "# ad_viz"
      ]
    },
    {
      "cell_type": "code",
      "execution_count": null,
      "metadata": {
        "id": "ONnF5q_3iAw0"
      },
      "outputs": [],
      "source": [
        "# ser_volume = ad_viz.obs['volume']\n",
        "# ser_volume.hist(bins=100)"
      ]
    },
    {
      "cell_type": "markdown",
      "metadata": {
        "id": "V0gum-lJ1vjH"
      },
      "source": [
        "# UMAP and Single-Cell Clustering"
      ]
    },
    {
      "cell_type": "code",
      "execution_count": null,
      "metadata": {
        "id": "O7Yjoxy0jx9K"
      },
      "outputs": [],
      "source": [
        "resolution = 1.5\n",
        "\n",
        "# Leiden Clustering\n",
        "######################\n",
        "\n",
        "# dividing by volume instead\n",
        "sc.pp.normalize_total(ad_viz)\n",
        "sc.pp.log1p(ad_viz)\n",
        "sc.pp.scale(ad_viz, max_value=10)\n",
        "sc.tl.pca(ad_viz, svd_solver='arpack')\n",
        "sc.pp.neighbors(ad_viz, n_neighbors=10, n_pcs=20)\n",
        "sc.tl.umap(ad_viz)\n",
        "sc.tl.leiden(ad_viz, resolution=resolution)\n",
        "\n",
        "# Calculate Leiden Signatures\n",
        "#########################################df_pos.index = [str(x) for x in list(range(df_pos.shape[0]))]\n",
        "ser_counts = ad_viz.obs['leiden'].value_counts()\n",
        "ser_counts.name = 'cell counts'\n",
        "meta_leiden = pd.DataFrame(ser_counts)\n",
        "\n",
        "cat_name = 'leiden'\n",
        "sig_leiden = pd.DataFrame(columns=ad_viz.var_names, index=ad_viz.obs[cat_name].cat.categories)\n",
        "for clust in ad_viz.obs[cat_name].cat.categories:\n",
        "    sig_leiden.loc[clust] = ad_viz[ad_viz.obs[cat_name].isin([clust]),:].X.mean(0)\n",
        "sig_leiden = sig_leiden.transpose()\n",
        "leiden_clusters = ['Leiden-' + str(x) for x in sig_leiden.columns.tolist()]\n",
        "sig_leiden.columns = leiden_clusters\n",
        "meta_leiden.index = sig_leiden.columns.tolist()\n",
        "meta_leiden['leiden'] = pd.Series(meta_leiden.index.tolist(), index=meta_leiden.index.tolist())\n",
        "\n",
        "# generate colors for categories by plotting\n",
        "sc.pl.umap(ad_viz, color=\"leiden\", legend_loc='on data')\n",
        "cats = ad_viz.obs['leiden'].cat.categories.tolist()\n",
        "colors = list(ad_viz.uns['leiden_colors'])\n",
        "cat_colors = dict(zip(cats, colors))\n",
        "\n",
        "# colors for clustergrammer2\n",
        "ser_color = pd.Series(cat_colors)\n",
        "ser_color.name = 'color'\n",
        "df_colors = pd.DataFrame(ser_color)\n",
        "df_colors.index = ['Leiden-' + str(x) for x in df_colors.index.tolist()]\n",
        "\n",
        "df_colors.loc[''] = 'white'"
      ]
    },
    {
      "cell_type": "markdown",
      "metadata": {
        "id": "9sYTWWyKkcNx"
      },
      "source": [
        "# Save AnnData\n",
        "After saving the anndata, use the Files tab to download the `.hdf5` to your local computer. This file can then be loaded into the MERSCOPE Vizualizer where the `leiden` clusters and UMAP dimensionality reduction embedding can be imported."
      ]
    },
    {
      "cell_type": "code",
      "execution_count": null,
      "metadata": {
        "id": "O-E_QZlZsB0f"
      },
      "outputs": [],
      "source": [
        "ad_viz"
      ]
    },
    {
      "cell_type": "code",
      "execution_count": null,
      "metadata": {
        "id": "7MqdZ_zxkUp9"
      },
      "outputs": [],
      "source": [
        "clustered_filename = anndata_filename.split('.hdf5')[0] + '_clustered.hdf5'\n",
        "ad_viz.write_h5ad(clustered_filename)"
      ]
    },
    {
      "cell_type": "code",
      "execution_count": null,
      "metadata": {
        "id": "N4OQcLbU2bD-"
      },
      "outputs": [],
      "source": []
    }
  ],
  "metadata": {
    "colab": {
      "provenance": []
    },
    "kernelspec": {
      "display_name": "base",
      "language": "python",
      "name": "python3"
    },
    "language_info": {
      "codemirror_mode": {
        "name": "ipython",
        "version": 3
      },
      "file_extension": ".py",
      "mimetype": "text/x-python",
      "name": "python",
      "nbconvert_exporter": "python",
      "pygments_lexer": "ipython3",
      "version": "3.12.9"
    }
  },
  "nbformat": 4,
  "nbformat_minor": 0
}
